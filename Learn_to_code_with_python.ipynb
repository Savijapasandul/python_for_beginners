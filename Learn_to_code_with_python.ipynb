{
 "cells": [
  {
   "cell_type": "markdown",
   "metadata": {},
   "source": [
    "# Learn to Code with Python"
   ]
  },
  {
   "cell_type": "markdown",
   "metadata": {},
   "source": [
    "Task \n",
    "- Print Hello, World using the print function."
   ]
  },
  {
   "cell_type": "code",
   "execution_count": 16,
   "metadata": {},
   "outputs": [
    {
     "name": "stdout",
     "output_type": "stream",
     "text": [
      "Hello, World!\n"
     ]
    }
   ],
   "source": [
    "# main function \n",
    "if __name__ == '__main__':\n",
    "    print(\"Hello, World!\")"
   ]
  },
  {
   "cell_type": "markdown",
   "metadata": {},
   "source": [
    "Task\n",
    "\n",
    "- Given an integer, 'n', perform the following conditional actions:\n",
    "\n",
    "- If n is odd, print \"Weird\".\n",
    "- If n is even:\n",
    "    - If 2 ≤ n ≤ 5, print \"Not Weird\".\n",
    "    - If 6 ≤ n ≤ 20, print \"Weird\".\n",
    "    - If n > 20, print \"Not Weird\"."
   ]
  },
  {
   "cell_type": "code",
   "execution_count": 15,
   "metadata": {},
   "outputs": [
    {
     "name": "stdout",
     "output_type": "stream",
     "text": [
      "Not Weird\n"
     ]
    }
   ],
   "source": [
    "#!/bin/python3\n",
    "\n",
    "import math\n",
    "import os\n",
    "import random\n",
    "import re\n",
    "import sys\n",
    "\n",
    "# function to check whether the number inputed is even or odd, using the the remainder concept '%' \n",
    "def check_weirdness(n):\n",
    "    if n%2==1:\n",
    "        print(\"Weird\")\n",
    "    elif n%2==0 and 2<=n<=5:\n",
    "        print(\"Not Weird\")\n",
    "    elif n%2==0 and 6<=n<=20:\n",
    "        print(\"Weird\")\n",
    "    elif n%2==0 and n>20:\n",
    "        print(\"Not Weird\")    \n",
    "\n",
    "# main function\n",
    "if __name__ == '__main__':\n",
    "    # function to run an input\n",
    "    n = int(input().strip())\n",
    "    # running function 'check weirdness'\n",
    "    check_weirdness(n)"
   ]
  },
  {
   "cell_type": "markdown",
   "metadata": {},
   "source": [
    "Task\n",
    "- The provided code stub reads two integers from STDIN, a and b. Add code to print three lines where:\n",
    "\n",
    "    - The first line contains the sum of the two numbers.\n",
    "    - The second line contains the difference of the two numbers (first - second).\n",
    "    - The third line contains the product of the two numbers."
   ]
  },
  {
   "cell_type": "code",
   "execution_count": 19,
   "metadata": {},
   "outputs": [
    {
     "name": "stdout",
     "output_type": "stream",
     "text": [
      "3\n",
      "-1\n",
      "2\n"
     ]
    }
   ],
   "source": [
    "# main function \n",
    "if __name__ == '__main__':\n",
    "    a = int(input())\n",
    "    b = int(input())\n",
    "    \n",
    "    print(a+b)\n",
    "    print(a-b)\n",
    "    print(a*b)\n",
    "    "
   ]
  },
  {
   "cell_type": "markdown",
   "metadata": {},
   "source": [
    "Task\n",
    "- The provided code stub reads two integers, a and b, from STDIN.\n",
    "\n",
    "    - Add logic to print two lines. The first line should contain the result of integer division,  a//b. The second line should contain the result of float division,  a/b.\n",
    "\n",
    "    - No rounding or formatting is necessary."
   ]
  },
  {
   "cell_type": "code",
   "execution_count": null,
   "metadata": {},
   "outputs": [],
   "source": [
    "if __name__ == '__main__':\n",
    "    a = int(input())\n",
    "    b = int(input())\n",
    "    \n",
    "    print(a//b)\n",
    "    "
   ]
  }
 ],
 "metadata": {
  "kernelspec": {
   "display_name": "Python 3",
   "language": "python",
   "name": "python3"
  },
  "language_info": {
   "codemirror_mode": {
    "name": "ipython",
    "version": 3
   },
   "file_extension": ".py",
   "mimetype": "text/x-python",
   "name": "python",
   "nbconvert_exporter": "python",
   "pygments_lexer": "ipython3",
   "version": "3.12.5"
  }
 },
 "nbformat": 4,
 "nbformat_minor": 2
}
